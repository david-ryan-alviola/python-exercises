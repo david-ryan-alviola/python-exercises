{
 "cells": [
  {
   "cell_type": "markdown",
   "metadata": {},
   "source": [
    "## Prompt the user for a day of the week, print out whether the day is Monday or not."
   ]
  },
  {
   "cell_type": "code",
   "execution_count": 2,
   "metadata": {},
   "outputs": [
    {
     "name": "stdout",
     "output_type": "stream",
     "text": [
      "Please enter the current day of the week:  Monday\n",
      "Today is Monday.\n"
     ]
    }
   ],
   "source": [
    "day_of_the_week = input(\"Please enter the current day of the week:  \")\n",
    "\n",
    "if (day_of_the_week.lower() == \"monday\"):\n",
    "    print(\"Sorry. It is Monday.\")\n",
    "else:\n",
    "    print(\"Aren't you glad it's not Monday?\")"
   ]
  },
  {
   "cell_type": "markdown",
   "metadata": {},
   "source": [
    "## Prompt the user for a day of the week, print out whether the day is a weekday or a weekend"
   ]
  },
  {
   "cell_type": "code",
   "execution_count": 3,
   "metadata": {},
   "outputs": [
    {
     "name": "stdout",
     "output_type": "stream",
     "text": [
      "Please enter the current day of the week:  saturday\n",
      "Enjoy your weekend!\n"
     ]
    }
   ],
   "source": [
    "day_of_the_week = input(\"Please enter the current day of the week:  \")\n",
    "weekend_days = [\"saturday\", \"sunday\"]\n",
    "\n",
    "if (day_of_the_week.lower() in weekend_days):\n",
    "    print(\"Enjoy your weekend!\")\n",
    "else:\n",
    "    print(\"Work hard for that weekend!\")"
   ]
  },
  {
   "cell_type": "markdown",
   "metadata": {},
   "source": [
    "## create variables and make up values for\n",
    "    # the number of hours worked in one week\n",
    "    # the hourly rate\n",
    "    # how much the week's paycheck will be\n",
    "    # write the python code that calculates the weekly paycheck. You get paid time and a half if you work more than 40 hours\n"
   ]
  },
  {
   "cell_type": "code",
   "execution_count": 6,
   "metadata": {},
   "outputs": [
    {
     "name": "stdout",
     "output_type": "stream",
     "text": [
      "Pay for this week:  $1975.53\n"
     ]
    }
   ],
   "source": [
    "hours_worked_per_week = 45\n",
    "hourly_rate = 41.59\n",
    "\n",
    "def calculate_weekly_paycheck_amount(hours_worked_per_week, hourly_rate):\n",
    "    regular_pay = hours_worked_per_week * hourly_rate\n",
    "    overtime_pay = 0\n",
    "    \n",
    "    if(hours_worked_per_week > 40):\n",
    "        overtime_hours = hours_worked_per_week - 40\n",
    "        overtime_pay = overtime_hours * hourly_rate * .5\n",
    "    \n",
    "    return regular_pay + overtime_pay\n",
    "\n",
    "weekly_paycheck_amount = calculate_weekly_paycheck_amount(hours_worked_per_week, hourly_rate)\n",
    "print(\"Pay for this week:  ${:.2f}\".format(weekly_paycheck_amount))"
   ]
  },
  {
   "cell_type": "markdown",
   "metadata": {},
   "source": [
    "## While\n",
    "    # Create an integer variable i with a value of 5.\n",
    "    # Create a while loop that runs so long as i is less than or equal to 15\n",
    "    # Each loop iteration, output the current value of i, then increment i by one."
   ]
  },
  {
   "cell_type": "code",
   "execution_count": 7,
   "metadata": {},
   "outputs": [
    {
     "name": "stdout",
     "output_type": "stream",
     "text": [
      "5\n",
      "6\n",
      "7\n",
      "8\n",
      "9\n",
      "10\n",
      "11\n",
      "12\n",
      "13\n",
      "14\n",
      "15\n"
     ]
    }
   ],
   "source": [
    "i = 5\n",
    "while i <= 15:\n",
    "    print(i)\n",
    "    i += 1"
   ]
  },
  {
   "cell_type": "markdown",
   "metadata": {},
   "source": [
    "    # Create a while loop that will count by 2's starting with 0 and ending at 100. Follow each number with a new line."
   ]
  },
  {
   "cell_type": "code",
   "execution_count": 8,
   "metadata": {},
   "outputs": [
    {
     "name": "stdout",
     "output_type": "stream",
     "text": [
      "0\n",
      "2\n",
      "4\n",
      "6\n",
      "8\n",
      "10\n",
      "12\n",
      "14\n",
      "16\n",
      "18\n",
      "20\n",
      "22\n",
      "24\n",
      "26\n",
      "28\n",
      "30\n",
      "32\n",
      "34\n",
      "36\n",
      "38\n",
      "40\n",
      "42\n",
      "44\n",
      "46\n",
      "48\n",
      "50\n",
      "52\n",
      "54\n",
      "56\n",
      "58\n",
      "60\n",
      "62\n",
      "64\n",
      "66\n",
      "68\n",
      "70\n",
      "72\n",
      "74\n",
      "76\n",
      "78\n",
      "80\n",
      "82\n",
      "84\n",
      "86\n",
      "88\n",
      "90\n",
      "92\n",
      "94\n",
      "96\n",
      "98\n",
      "100\n"
     ]
    }
   ],
   "source": [
    "i = 0\n",
    "while i <= 100:\n",
    "    print(i)\n",
    "    i += 2"
   ]
  },
  {
   "cell_type": "markdown",
   "metadata": {},
   "source": [
    "    # Alter your loop to count backwards by 5's from 100 to -10."
   ]
  },
  {
   "cell_type": "code",
   "execution_count": 9,
   "metadata": {},
   "outputs": [
    {
     "name": "stdout",
     "output_type": "stream",
     "text": [
      "100\n",
      "95\n",
      "90\n",
      "85\n",
      "80\n",
      "75\n",
      "70\n",
      "65\n",
      "60\n",
      "55\n",
      "50\n",
      "45\n",
      "40\n",
      "35\n",
      "30\n",
      "25\n",
      "20\n",
      "15\n",
      "10\n",
      "5\n",
      "0\n",
      "-5\n",
      "-10\n"
     ]
    }
   ],
   "source": [
    "i = 100\n",
    "while i >= -10:\n",
    "    print(i)\n",
    "    i -= 5"
   ]
  },
  {
   "cell_type": "markdown",
   "metadata": {},
   "source": [
    "    # Create a while loop that starts at 2, and displays the number squared on each line while the number is less than 1,000,000."
   ]
  },
  {
   "cell_type": "code",
   "execution_count": 10,
   "metadata": {},
   "outputs": [
    {
     "name": "stdout",
     "output_type": "stream",
     "text": [
      "2\n",
      "4\n",
      "16\n",
      "256\n",
      "65536\n"
     ]
    }
   ],
   "source": [
    "i = 2\n",
    "while i < 1_000_000:\n",
    "    print(i)\n",
    "    i = i ** 2"
   ]
  },
  {
   "cell_type": "markdown",
   "metadata": {},
   "source": [
    "    # Write a loop that uses print to create the output shown below."
   ]
  },
  {
   "cell_type": "code",
   "execution_count": 11,
   "metadata": {},
   "outputs": [
    {
     "name": "stdout",
     "output_type": "stream",
     "text": [
      "100\n",
      "95\n",
      "90\n",
      "85\n",
      "80\n",
      "75\n",
      "70\n",
      "65\n",
      "60\n",
      "55\n",
      "50\n",
      "45\n",
      "40\n",
      "35\n",
      "30\n",
      "25\n",
      "20\n",
      "15\n",
      "10\n",
      "5\n"
     ]
    }
   ],
   "source": [
    "i = 100\n",
    "while i > 0:\n",
    "    print(i)\n",
    "    i -= 5"
   ]
  },
  {
   "cell_type": "markdown",
   "metadata": {},
   "source": [
    "## For Loops\n",
    "    # Write some code that prompts the user for a number, then shows a multiplication table up through 10 for that number."
   ]
  },
  {
   "cell_type": "code",
   "execution_count": 17,
   "metadata": {},
   "outputs": [
    {
     "name": "stdout",
     "output_type": "stream",
     "text": [
      "Please input the number you wish to multiply:  14\n",
      "1 x 14 = 14\n",
      "2 x 14 = 28\n",
      "3 x 14 = 42\n",
      "4 x 14 = 56\n",
      "5 x 14 = 70\n",
      "6 x 14 = 84\n",
      "7 x 14 = 98\n",
      "8 x 14 = 112\n",
      "9 x 14 = 126\n",
      "10 x 14 = 140\n"
     ]
    }
   ],
   "source": [
    "user_num = input(\"Please input the number you wish to multiply:  \")\n",
    "\n",
    "for n in range(1,11):\n",
    "    print(\"{} x {} = {}\".format(n, user_num, n * int(user_num)))"
   ]
  },
  {
   "cell_type": "markdown",
   "metadata": {},
   "source": [
    "    # Create a for loop that uses print to create the output shown below."
   ]
  },
  {
   "cell_type": "code",
   "execution_count": 18,
   "metadata": {},
   "outputs": [
    {
     "name": "stdout",
     "output_type": "stream",
     "text": [
      "1\n",
      "22\n",
      "333\n",
      "4444\n",
      "55555\n",
      "666666\n",
      "7777777\n",
      "88888888\n",
      "999999999\n"
     ]
    }
   ],
   "source": [
    "for n in range(1, 10):\n",
    "    string_num = str(n)\n",
    "    print(string_num * n)"
   ]
  },
  {
   "cell_type": "markdown",
   "metadata": {},
   "source": [
    "## break and continue\n",
    "    # Prompt the user for an odd number between 1 and 50. Use a loop and a break statement to continue prompting the user if they enter invalid input. (Hint: use the isdigit method on strings to determine this). Use a loop and the continue statement to output all the odd numbers between 1 and 50, except for the number the user entered."
   ]
  },
  {
   "cell_type": "code",
   "execution_count": 27,
   "metadata": {},
   "outputs": [
    {
     "name": "stdout",
     "output_type": "stream",
     "text": [
      "Number to skip is:  27\n",
      "\n",
      "Here is an odd number:  1\n",
      "Here is an odd number:  3\n",
      "Here is an odd number:  5\n",
      "Here is an odd number:  7\n",
      "Here is an odd number:  9\n",
      "Here is an odd number:  11\n",
      "Here is an odd number:  13\n",
      "Here is an odd number:  15\n",
      "Here is an odd number:  17\n",
      "Here is an odd number:  19\n",
      "Here is an odd number:  21\n",
      "Here is an odd number:  23\n",
      "Here is an odd number:  25\n",
      "Yikes! Skipping number:  27\n",
      "Here is an odd number:  29\n",
      "Here is an odd number:  31\n",
      "Here is an odd number:  33\n",
      "Here is an odd number:  35\n",
      "Here is an odd number:  37\n",
      "Here is an odd number:  39\n",
      "Here is an odd number:  41\n",
      "Here is an odd number:  43\n",
      "Here is an odd number:  45\n",
      "Here is an odd number:  47\n",
      "Here is an odd number:  49\n"
     ]
    }
   ],
   "source": [
    "user_num = \"\"\n",
    "\n",
    "# Following directions\n",
    "while True:\n",
    "    user_num = input(\"Number to skip is:  \")\n",
    "    if user_num.isdigit() and int(user_num) % 2 != 0 and int(user_num) >= 1 and int(user_num) <= 50:\n",
    "        break\n",
    "\n",
    "# Alternative solution\n",
    "# while not user_num.isdigit() or (int(user_num) % 2 == 0) or (int(user_num) < 1) or (int(user_num) > 50):\n",
    "#     user_num = input(\"Please enter an odd number between 1 and 50:  \")\n",
    "\n",
    "print(\"\")\n",
    "\n",
    "for n in range(1, 51):\n",
    "    if n == int(user_num):\n",
    "        print(f\"Yikes! Skipping number:  {n}\")\n",
    "        continue\n",
    "    if n % 2 != 0:\n",
    "        print(f\"Here is an odd number:  {n}\")"
   ]
  },
  {
   "cell_type": "markdown",
   "metadata": {},
   "source": [
    "    # The input function can be used to prompt for input and use that input in your python code. Prompt the user to enter a positive number and write a loop that counts from 0 to that number. (Hints: first make sure that the value the user entered is a valid number, also note that the input function returns a string, so you'll need to convert this to a numeric type.)"
   ]
  },
  {
   "cell_type": "code",
   "execution_count": 30,
   "metadata": {},
   "outputs": [
    {
     "name": "stdout",
     "output_type": "stream",
     "text": [
      "Please enter a positive number:  7\n",
      "0\n",
      "1\n",
      "2\n",
      "3\n",
      "4\n",
      "5\n",
      "6\n",
      "7\n"
     ]
    }
   ],
   "source": [
    "user_num = \"\"\n",
    "\n",
    "while not user_num.isdigit() or int(user_num) <= 0:\n",
    "    user_num = input(\"Please enter a positive number:  \")\n",
    "    \n",
    "for n in range (0, int(user_num) + 1):\n",
    "    print(n)"
   ]
  },
  {
   "cell_type": "markdown",
   "metadata": {},
   "source": [
    "    # Write a program that prompts the user for a positive integer. Next write a loop that prints out the numbers from the number the user entered down to 1."
   ]
  },
  {
   "cell_type": "code",
   "execution_count": 35,
   "metadata": {},
   "outputs": [
    {
     "name": "stdout",
     "output_type": "stream",
     "text": [
      "Please enter a positive number:  10\n",
      "10\n",
      "9\n",
      "8\n",
      "7\n",
      "6\n",
      "5\n",
      "4\n",
      "3\n",
      "2\n",
      "1\n"
     ]
    }
   ],
   "source": [
    "user_num = \"\"\n",
    "\n",
    "while not user_num.isdigit() or int(user_num) <= 0:\n",
    "    user_num = input(\"Please enter a positive number:  \")\n",
    "    \n",
    "for n in reversed(range(1, int(user_num) + 1)):\n",
    "    print(n)"
   ]
  },
  {
   "cell_type": "markdown",
   "metadata": {},
   "source": [
    "## Fizzbuzz\n",
    "    # One of the most common interview questions for entry-level programmers is the FizzBuzz test. Developed by Imran Ghory, the test is designed to test basic looping and conditional logic skills.\n",
    "    # Write a program that prints the numbers from 1 to 100.\n",
    "    # For multiples of three print \"Fizz\" instead of the number\n",
    "    # For the multiples of five print \"Buzz\".\n",
    "    # For numbers which are multiples of both three and five print \"FizzBuzz\"."
   ]
  },
  {
   "cell_type": "code",
   "execution_count": 40,
   "metadata": {
    "scrolled": true
   },
   "outputs": [
    {
     "name": "stdout",
     "output_type": "stream",
     "text": [
      "1\n",
      "2\n",
      "Fizz\n",
      "4\n",
      "Buzz\n",
      "Fizz\n",
      "7\n",
      "8\n",
      "Fizz\n",
      "Buzz\n",
      "11\n",
      "Fizz\n",
      "13\n",
      "14\n",
      "FizzBuzz\n",
      "16\n",
      "17\n",
      "Fizz\n",
      "19\n",
      "Buzz\n",
      "Fizz\n",
      "22\n",
      "23\n",
      "Fizz\n",
      "Buzz\n",
      "26\n",
      "Fizz\n",
      "28\n",
      "29\n",
      "FizzBuzz\n",
      "31\n",
      "32\n",
      "Fizz\n",
      "34\n",
      "Buzz\n",
      "Fizz\n",
      "37\n",
      "38\n",
      "Fizz\n",
      "Buzz\n",
      "41\n",
      "Fizz\n",
      "43\n",
      "44\n",
      "FizzBuzz\n",
      "46\n",
      "47\n",
      "Fizz\n",
      "49\n",
      "Buzz\n",
      "Fizz\n",
      "52\n",
      "53\n",
      "Fizz\n",
      "Buzz\n",
      "56\n",
      "Fizz\n",
      "58\n",
      "59\n",
      "FizzBuzz\n",
      "61\n",
      "62\n",
      "Fizz\n",
      "64\n",
      "Buzz\n",
      "Fizz\n",
      "67\n",
      "68\n",
      "Fizz\n",
      "Buzz\n",
      "71\n",
      "Fizz\n",
      "73\n",
      "74\n",
      "FizzBuzz\n",
      "76\n",
      "77\n",
      "Fizz\n",
      "79\n",
      "Buzz\n",
      "Fizz\n",
      "82\n",
      "83\n",
      "Fizz\n",
      "Buzz\n",
      "86\n",
      "Fizz\n",
      "88\n",
      "89\n",
      "FizzBuzz\n",
      "91\n",
      "92\n",
      "Fizz\n",
      "94\n",
      "Buzz\n",
      "Fizz\n",
      "97\n",
      "98\n",
      "Fizz\n",
      "Buzz\n"
     ]
    }
   ],
   "source": [
    "for i in range(1, 101):\n",
    "    output = \"\"\n",
    "    \n",
    "    if (i % 3 == 0):\n",
    "        output += \"Fizz\"\n",
    "    if (i % 5 == 0):\n",
    "        output += \"Buzz\"\n",
    "    \n",
    "    if (len(output) > 0):\n",
    "        print(output)\n",
    "    else:\n",
    "        print(str(i))"
   ]
  },
  {
   "cell_type": "markdown",
   "metadata": {},
   "source": [
    "## Display a table of powers.\n",
    "    # Prompt the user to enter an integer.\n",
    "    # Display a table of squares and cubes from 1 to the value entered.\n",
    "    # Ask if the user wants to continue.\n",
    "    # Assume that the user will enter valid data.\n",
    "    # Only continue if the user agrees to."
   ]
  },
  {
   "cell_type": "code",
   "execution_count": 9,
   "metadata": {},
   "outputs": [
    {
     "name": "stdout",
     "output_type": "stream",
     "text": [
      "What number would you like to go up to?  7\n",
      "\n",
      "Here is your table!\n",
      "\n",
      "number | squared | cubed\n",
      "------ | ------- | -----\n",
      "1      | 1       | 1\n",
      "2      | 4       | 8\n",
      "3      | 9       | 27\n",
      "4      | 16       | 64\n",
      "5      | 25       | 125\n",
      "6      | 36       | 216\n",
      "7      | 49       | 343\n",
      "Do you want to continue (y/n)?  n\n"
     ]
    }
   ],
   "source": [
    "wants_to_continue = True\n",
    "\n",
    "while wants_to_continue:\n",
    "    user_num = input(\"What number would you like to go up to?  \")\n",
    "    num = 0\n",
    "    \n",
    "    if (user_num.isdigit()):\n",
    "        num = int(user_num)\n",
    "    else:\n",
    "        continue\n",
    "    \n",
    "    print(\"\")\n",
    "    print(\"Here is your table!\")\n",
    "    print(\"\")\n",
    "    print(\"number | squared | cubed\")\n",
    "    print(\"------ | ------- | -----\")\n",
    "    \n",
    "    for i in range (1, num + 1):\n",
    "        print(\"{}      | {}       | {}\".format(i, i ** 2, i ** 3))\n",
    "    \n",
    "    user_continue = input(\"Do you want to continue (y/n)?  \")\n",
    "    \n",
    "    if (user_continue.lower() != \"y\" and user_continue.lower() != \"yes\"):\n",
    "        wants_to_continue = False\n",
    "    "
   ]
  },
  {
   "cell_type": "code",
   "execution_count": null,
   "metadata": {},
   "outputs": [],
   "source": []
  },
  {
   "cell_type": "code",
   "execution_count": null,
   "metadata": {},
   "outputs": [],
   "source": []
  }
 ],
 "metadata": {
  "kernelspec": {
   "display_name": "Python 3",
   "language": "python",
   "name": "python3"
  },
  "language_info": {
   "codemirror_mode": {
    "name": "ipython",
    "version": 3
   },
   "file_extension": ".py",
   "mimetype": "text/x-python",
   "name": "python",
   "nbconvert_exporter": "python",
   "pygments_lexer": "ipython3",
   "version": "3.8.5"
  }
 },
 "nbformat": 4,
 "nbformat_minor": 4
}
