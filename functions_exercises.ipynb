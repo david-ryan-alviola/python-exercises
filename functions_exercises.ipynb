{
 "cells": [
  {
   "cell_type": "markdown",
   "metadata": {},
   "source": [
    "### Define a function named is_two. It should accept one input and return True if the passed input is either the number or the string 2, False otherwise."
   ]
  },
  {
   "cell_type": "code",
   "execution_count": 42,
   "metadata": {},
   "outputs": [
    {
     "name": "stdout",
     "output_type": "stream",
     "text": [
      "Positive tests passed.\n"
     ]
    },
    {
     "ename": "AssertionError",
     "evalue": "",
     "output_type": "error",
     "traceback": [
      "\u001b[0;31m---------------------------------------------------------------------------\u001b[0m",
      "\u001b[0;31mAssertionError\u001b[0m                            Traceback (most recent call last)",
      "\u001b[0;32m<ipython-input-42-174b481a3681>\u001b[0m in \u001b[0;36m<module>\u001b[0;34m\u001b[0m\n\u001b[1;32m      5\u001b[0m \u001b[0;32massert\u001b[0m \u001b[0mis_two\u001b[0m\u001b[0;34m(\u001b[0m\u001b[0mstr\u001b[0m\u001b[0;34m(\u001b[0m\u001b[0;36m2\u001b[0m\u001b[0;34m)\u001b[0m\u001b[0;34m)\u001b[0m\u001b[0;34m\u001b[0m\u001b[0;34m\u001b[0m\u001b[0m\n\u001b[1;32m      6\u001b[0m \u001b[0mprint\u001b[0m\u001b[0;34m(\u001b[0m\u001b[0;34m\"Positive tests passed.\"\u001b[0m\u001b[0;34m)\u001b[0m\u001b[0;34m\u001b[0m\u001b[0;34m\u001b[0m\u001b[0m\n\u001b[0;32m----> 7\u001b[0;31m \u001b[0;32massert\u001b[0m \u001b[0mis_two\u001b[0m\u001b[0;34m(\u001b[0m\u001b[0;36m4\u001b[0m\u001b[0;34m)\u001b[0m \u001b[0;31m# AssertionError expected\u001b[0m\u001b[0;34m\u001b[0m\u001b[0;34m\u001b[0m\u001b[0m\n\u001b[0m",
      "\u001b[0;31mAssertionError\u001b[0m: "
     ]
    }
   ],
   "source": [
    "def is_two(num):\n",
    "    return int(num) == 2\n",
    "\n",
    "assert is_two(2)\n",
    "assert is_two(str(2))\n",
    "print(\"Positive tests passed.\")\n",
    "assert is_two(4) # AssertionError expected"
   ]
  },
  {
   "cell_type": "markdown",
   "metadata": {},
   "source": [
    "### Define a function named is_vowel. It should return True if the passed string is a vowel, False otherwise."
   ]
  },
  {
   "cell_type": "code",
   "execution_count": 43,
   "metadata": {},
   "outputs": [
    {
     "name": "stdout",
     "output_type": "stream",
     "text": [
      "Positive tests passed.\n"
     ]
    },
    {
     "ename": "AssertionError",
     "evalue": "",
     "output_type": "error",
     "traceback": [
      "\u001b[0;31m---------------------------------------------------------------------------\u001b[0m",
      "\u001b[0;31mAssertionError\u001b[0m                            Traceback (most recent call last)",
      "\u001b[0;32m<ipython-input-43-b1bd0fc07f88>\u001b[0m in \u001b[0;36m<module>\u001b[0;34m\u001b[0m\n\u001b[1;32m      8\u001b[0m \u001b[0;34m\u001b[0m\u001b[0m\n\u001b[1;32m      9\u001b[0m \u001b[0mprint\u001b[0m\u001b[0;34m(\u001b[0m\u001b[0;34m\"Positive tests passed.\"\u001b[0m\u001b[0;34m)\u001b[0m\u001b[0;34m\u001b[0m\u001b[0;34m\u001b[0m\u001b[0m\n\u001b[0;32m---> 10\u001b[0;31m \u001b[0;32massert\u001b[0m \u001b[0mis_vowel\u001b[0m\u001b[0;34m(\u001b[0m\u001b[0;34m\"D\"\u001b[0m\u001b[0;34m)\u001b[0m \u001b[0;31m# AssertionError expected\u001b[0m\u001b[0;34m\u001b[0m\u001b[0;34m\u001b[0m\u001b[0m\n\u001b[0m",
      "\u001b[0;31mAssertionError\u001b[0m: "
     ]
    }
   ],
   "source": [
    "vowels = [\"a\", \"e\", \"i\", \"o\", \"u\"]\n",
    "\n",
    "def is_vowel(string):    \n",
    "    return string.lower() in vowels\n",
    "\n",
    "for v in vowels:\n",
    "    assert is_vowel(v)\n",
    "\n",
    "print(\"Positive tests passed.\")\n",
    "assert is_vowel(\"D\") # AssertionError expected"
   ]
  },
  {
   "cell_type": "markdown",
   "metadata": {},
   "source": [
    "### Define a function named is_consonant. It should return True if the passed string is a consonant, False otherwise. Use your is_vowel function to accomplish this."
   ]
  },
  {
   "cell_type": "code",
   "execution_count": 44,
   "metadata": {},
   "outputs": [
    {
     "name": "stdout",
     "output_type": "stream",
     "text": [
      "Positive tests passed.\n"
     ]
    },
    {
     "ename": "AssertionError",
     "evalue": "",
     "output_type": "error",
     "traceback": [
      "\u001b[0;31m---------------------------------------------------------------------------\u001b[0m",
      "\u001b[0;31mAssertionError\u001b[0m                            Traceback (most recent call last)",
      "\u001b[0;32m<ipython-input-44-e427b2623260>\u001b[0m in \u001b[0;36m<module>\u001b[0;34m\u001b[0m\n\u001b[1;32m      5\u001b[0m \u001b[0;32massert\u001b[0m \u001b[0mis_consonant\u001b[0m\u001b[0;34m(\u001b[0m\u001b[0;34m\"z\"\u001b[0m\u001b[0;34m)\u001b[0m\u001b[0;34m\u001b[0m\u001b[0;34m\u001b[0m\u001b[0m\n\u001b[1;32m      6\u001b[0m \u001b[0mprint\u001b[0m\u001b[0;34m(\u001b[0m\u001b[0;34m\"Positive tests passed.\"\u001b[0m\u001b[0;34m)\u001b[0m\u001b[0;34m\u001b[0m\u001b[0;34m\u001b[0m\u001b[0m\n\u001b[0;32m----> 7\u001b[0;31m \u001b[0;32massert\u001b[0m \u001b[0mis_consonant\u001b[0m\u001b[0;34m(\u001b[0m\u001b[0;34m\"a\"\u001b[0m\u001b[0;34m)\u001b[0m \u001b[0;31m# AssertionError expected\u001b[0m\u001b[0;34m\u001b[0m\u001b[0;34m\u001b[0m\u001b[0m\n\u001b[0m",
      "\u001b[0;31mAssertionError\u001b[0m: "
     ]
    }
   ],
   "source": [
    "def is_consonant(string):\n",
    "    return not is_vowel(string)\n",
    "\n",
    "assert is_consonant(\"D\")\n",
    "assert is_consonant(\"z\")\n",
    "print(\"Positive tests passed.\")\n",
    "assert is_consonant(\"a\") # AssertionError expected"
   ]
  },
  {
   "cell_type": "markdown",
   "metadata": {},
   "source": [
    "### Define a function that accepts a string that is a word. The function should capitalize the first letter of the word if the word starts with a consonant."
   ]
  },
  {
   "cell_type": "code",
   "execution_count": 19,
   "metadata": {},
   "outputs": [],
   "source": [
    "def capitalize_consonants(word):\n",
    "    if is_consonant(word[0]):\n",
    "        return word.capitalize()\n",
    "    else:\n",
    "        return word\n",
    "    \n",
    "assert capitalize_consonants(\"chicken\") == \"Chicken\"\n",
    "assert capitalize_consonants(\"zebra\") == \"Zebra\"\n",
    "assert capitalize_consonants(\"apple\") == \"apple\"\n",
    "assert capitalize_consonants(\"umbrella\") == \"umbrella\""
   ]
  },
  {
   "cell_type": "markdown",
   "metadata": {},
   "source": [
    "### Define a function named calculate_tip. It should accept a tip percentage (a number between 0 and 1) and the bill total, and return the amount to tip."
   ]
  },
  {
   "cell_type": "code",
   "execution_count": 23,
   "metadata": {},
   "outputs": [],
   "source": [
    "def calculate_tip(tip_percent, bill_total):\n",
    "    if (tip_percent < 0):\n",
    "        return bill_total\n",
    "    \n",
    "    if (tip_percent > 1):\n",
    "        tip_percent /= 100\n",
    "        \n",
    "    return bill_total * (tip_percent + 1)\n",
    "\n",
    "assert calculate_tip(.5, 10) == 15\n",
    "assert calculate_tip(25, 100) == 125\n",
    "assert calculate_tip(-24, 24) == 24\n",
    "assert calculate_tip(0, 14) == 14"
   ]
  },
  {
   "cell_type": "markdown",
   "metadata": {},
   "source": [
    "### Define a function named apply_discount. It should accept a original price, and a discount percentage, and return the price after the discount is applied."
   ]
  },
  {
   "cell_type": "code",
   "execution_count": 29,
   "metadata": {},
   "outputs": [],
   "source": [
    "def apply_discount(price, discount):\n",
    "    discount /= 100\n",
    "    \n",
    "    return price * (1 - discount)\n",
    "\n",
    "assert apply_discount(20, 50) == 10\n",
    "assert apply_discount(100, 25) == 75\n",
    "assert apply_discount(1, 0) == 1\n",
    "assert apply_discount(5, 100) == 0"
   ]
  },
  {
   "cell_type": "markdown",
   "metadata": {},
   "source": [
    "### Define a function named handle_commas. It should accept a string that is a number that contains commas in it as input, and return a number as output."
   ]
  },
  {
   "cell_type": "code",
   "execution_count": 30,
   "metadata": {},
   "outputs": [],
   "source": [
    "def handle_commas(str_num):\n",
    "    return int(\"\".join(str_num.split(\",\")))\n",
    "\n",
    "assert handle_commas(\"1,000,000\") == 1_000_000\n",
    "assert handle_commas(\"1,000\") == 1000"
   ]
  },
  {
   "cell_type": "markdown",
   "metadata": {},
   "source": [
    "### Define a function named get_letter_grade. It should accept a number and return the letter grade associated with that number (A-F)."
   ]
  },
  {
   "cell_type": "code",
   "execution_count": 32,
   "metadata": {},
   "outputs": [],
   "source": [
    "def get_letter_grade(num_grade):\n",
    "    if (num_grade >= 88):\n",
    "        return \"A\"\n",
    "    elif (num_grade < 88 and num_grade >= 80):\n",
    "        return \"B\"\n",
    "    elif (num_grade < 80 and num_grade >= 67):\n",
    "        return \"C\"\n",
    "    elif (num_grade < 67 and num_grade >= 60):\n",
    "        return \"D\"\n",
    "    else:\n",
    "        return \"F\"\n",
    "        \n",
    "assert get_letter_grade(88) == \"A\"\n",
    "assert get_letter_grade(87) == \"B\"\n",
    "assert get_letter_grade(80) == \"B\"\n",
    "assert get_letter_grade(79) == \"C\"\n",
    "assert get_letter_grade(67) == \"C\"\n",
    "assert get_letter_grade(66) == \"D\"\n",
    "assert get_letter_grade(60) == \"D\"\n",
    "assert get_letter_grade(59) == \"F\""
   ]
  },
  {
   "cell_type": "markdown",
   "metadata": {},
   "source": [
    "### Define a function named remove_vowels that accepts a string and returns a string with all the vowels removed."
   ]
  },
  {
   "cell_type": "code",
   "execution_count": 41,
   "metadata": {},
   "outputs": [],
   "source": [
    "def remove_vowels(word):\n",
    "    vowels = [\"a\", \"e\", \"i\", \"o\", \"u\"]\n",
    "    \n",
    "    trimmed_word = []\n",
    "    for letter in word:\n",
    "        if letter in vowels:\n",
    "            continue\n",
    "        trimmed_word.append(letter)\n",
    "    \n",
    "    return \"\".join(trimmed_word)\n",
    "\n",
    "assert remove_vowels(\"apple\") == \"ppl\"\n",
    "assert remove_vowels(\"racecar\") == \"rccr\"\n",
    "assert remove_vowels(\"gym\") == \"gym\""
   ]
  },
  {
   "cell_type": "markdown",
   "metadata": {},
   "source": [
    "### Define a function named normalize_name. It should accept a string and return a valid python identifier, that is:\n",
    "1. anything that is not a valid python identifier should be removed\n",
    "2. leading and trailing whitespace should be removed\n",
    "3. everything should be lowercase\n",
    "4. spaces should be replaced with underscores\n",
    "5. for example:\n",
    "    * Name will become name\n",
    "    * First Name will become first_name\n",
    "    * % Completed will become completed"
   ]
  },
  {
   "cell_type": "code",
   "execution_count": 62,
   "metadata": {},
   "outputs": [
    {
     "name": "stdout",
     "output_type": "stream",
     "text": [
      "name\n",
      "first_name\n",
      "completed\n"
     ]
    }
   ],
   "source": [
    "def normalize_name(name):\n",
    "    special_chars_removed = []\n",
    "    \n",
    "    for char in name:\n",
    "        if not char.isalpha():\n",
    "            special_chars_removed.append(\" \")\n",
    "        else:\n",
    "            special_chars_removed.append(char)\n",
    "    \n",
    "    name = \"\".join(special_chars_removed)\n",
    "    \n",
    "    formatted_name = name.lower().strip()\n",
    "    formatted_name = formatted_name.replace(\" \", \"_\")\n",
    "    print(formatted_name)\n",
    "    return formatted_name\n",
    "\n",
    "assert normalize_name(\"Name\") == \"name\"\n",
    "assert normalize_name(\"First Name\") == \"first_name\"\n",
    "assert normalize_name(\"% Completed\") == \"completed\""
   ]
  },
  {
   "cell_type": "markdown",
   "metadata": {},
   "source": [
    "### Write a function named cumulative_sum that accepts a list of numbers and returns a list that is the cumulative sum of the numbers in the list."
   ]
  },
  {
   "cell_type": "code",
   "execution_count": 67,
   "metadata": {},
   "outputs": [],
   "source": [
    "def cumulative_sum(numbers):\n",
    "    total = 0\n",
    "    sums = []\n",
    "    \n",
    "    for num in numbers:\n",
    "        total += num\n",
    "        sums.append(total)\n",
    "    \n",
    "    return sums\n",
    "\n",
    "assert cumulative_sum([1, 1, 1]) == [1, 2, 3]\n",
    "assert cumulative_sum([1, 2, 3, 4]) == [1, 3, 6, 10]\n",
    "assert cumulative_sum([2, 4, 6, 8]) == [2, 6, 12, 20]\n",
    "assert cumulative_sum([1, 2, 3, 5, 8, 13, 21]) == [1, 3, 6, 11, 19, 32, 53]"
   ]
  },
  {
   "cell_type": "code",
   "execution_count": null,
   "metadata": {},
   "outputs": [],
   "source": []
  }
 ],
 "metadata": {
  "kernelspec": {
   "display_name": "Python 3",
   "language": "python",
   "name": "python3"
  },
  "language_info": {
   "codemirror_mode": {
    "name": "ipython",
    "version": 3
   },
   "file_extension": ".py",
   "mimetype": "text/x-python",
   "name": "python",
   "nbconvert_exporter": "python",
   "pygments_lexer": "ipython3",
   "version": "3.8.5"
  }
 },
 "nbformat": 4,
 "nbformat_minor": 4
}
