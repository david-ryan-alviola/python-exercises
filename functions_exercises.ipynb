{
 "cells": [
  {
   "cell_type": "markdown",
   "metadata": {},
   "source": [
    "### Define a function named is_two. It should accept one input and return True if the passed input is either the number or the string 2, False otherwise."
   ]
  },
  {
   "cell_type": "code",
   "execution_count": 89,
   "metadata": {},
   "outputs": [],
   "source": [
    "def is_two(num):\n",
    "    return int(num) == 2\n",
    "\n",
    "assert is_two(2)\n",
    "assert is_two(str(2))\n",
    "assert is_two(\"2\")\n",
    "assert is_two(4) == False"
   ]
  },
  {
   "cell_type": "markdown",
   "metadata": {},
   "source": [
    "### Define a function named is_vowel. It should return True if the passed string is a vowel, False otherwise."
   ]
  },
  {
   "cell_type": "code",
   "execution_count": 87,
   "metadata": {},
   "outputs": [],
   "source": [
    "vowels = [\"a\", \"e\", \"i\", \"o\", \"u\"]\n",
    "\n",
    "def is_vowel(string):    \n",
    "    return string.lower() in vowels\n",
    "\n",
    "for v in vowels:\n",
    "    assert is_vowel(v)\n",
    "\n",
    "assert is_vowel(\"D\") == False"
   ]
  },
  {
   "cell_type": "markdown",
   "metadata": {},
   "source": [
    "### Define a function named is_consonant. It should return True if the passed string is a consonant, False otherwise. Use your is_vowel function to accomplish this."
   ]
  },
  {
   "cell_type": "code",
   "execution_count": 91,
   "metadata": {},
   "outputs": [],
   "source": [
    "def is_consonant(string):\n",
    "    return not is_vowel(string) and string.isalpha()\n",
    "\n",
    "assert is_consonant(\"D\")\n",
    "assert is_consonant(\"z\")\n",
    "assert is_consonant(\"a\") == False\n",
    "assert is_consonant(\"$\") == False"
   ]
  },
  {
   "cell_type": "markdown",
   "metadata": {},
   "source": [
    "### Define a function that accepts a string that is a word. The function should capitalize the first letter of the word if the word starts with a consonant."
   ]
  },
  {
   "cell_type": "code",
   "execution_count": 19,
   "metadata": {},
   "outputs": [],
   "source": [
    "def capitalize_consonants(word):\n",
    "    if is_consonant(word[0]):\n",
    "        return word.capitalize()\n",
    "    else:\n",
    "        return word\n",
    "    \n",
    "assert capitalize_consonants(\"chicken\") == \"Chicken\"\n",
    "assert capitalize_consonants(\"zebra\") == \"Zebra\"\n",
    "assert capitalize_consonants(\"apple\") == \"apple\"\n",
    "assert capitalize_consonants(\"umbrella\") == \"umbrella\""
   ]
  },
  {
   "cell_type": "markdown",
   "metadata": {},
   "source": [
    "### Define a function named calculate_tip. It should accept a tip percentage (a number between 0 and 1) and the bill total, and return the amount to tip."
   ]
  },
  {
   "cell_type": "code",
   "execution_count": 93,
   "metadata": {},
   "outputs": [],
   "source": [
    "def calculate_tip(tip_percent, bill_total):\n",
    "    if (tip_percent < 0):\n",
    "        return 0\n",
    "    \n",
    "    if (tip_percent > 1):\n",
    "        tip_percent /= 100\n",
    "        \n",
    "    return bill_total * tip_percent\n",
    "\n",
    "assert calculate_tip(.5, 10) == 5\n",
    "assert calculate_tip(25, 100) == 25\n",
    "assert calculate_tip(-24, 24) == 0\n",
    "assert calculate_tip(0, 14) == 0"
   ]
  },
  {
   "cell_type": "markdown",
   "metadata": {},
   "source": [
    "### Define a function named apply_discount. It should accept a original price, and a discount percentage, and return the price after the discount is applied."
   ]
  },
  {
   "cell_type": "code",
   "execution_count": 29,
   "metadata": {},
   "outputs": [],
   "source": [
    "def apply_discount(price, discount):\n",
    "    discount /= 100\n",
    "    \n",
    "    return price * (1 - discount)\n",
    "\n",
    "assert apply_discount(20, 50) == 10\n",
    "assert apply_discount(100, 25) == 75\n",
    "assert apply_discount(1, 0) == 1\n",
    "assert apply_discount(5, 100) == 0"
   ]
  },
  {
   "cell_type": "markdown",
   "metadata": {},
   "source": [
    "### Define a function named handle_commas. It should accept a string that is a number that contains commas in it as input, and return a number as output."
   ]
  },
  {
   "cell_type": "code",
   "execution_count": 103,
   "metadata": {},
   "outputs": [],
   "source": [
    "def handle_commas(str_num):\n",
    "    return float(\"\".join(str_num.split(\",\")))\n",
    "\n",
    "assert handle_commas(\"1,000,000\") == 1_000_000\n",
    "assert handle_commas(\"1,000\") == 1_000\n",
    "assert handle_commas(\"10,000.14\") == 10_000.14"
   ]
  },
  {
   "cell_type": "markdown",
   "metadata": {},
   "source": [
    "### Define a function named get_letter_grade. It should accept a number and return the letter grade associated with that number (A-F)."
   ]
  },
  {
   "cell_type": "code",
   "execution_count": 32,
   "metadata": {},
   "outputs": [],
   "source": [
    "def get_letter_grade(num_grade):\n",
    "    if (num_grade >= 88):\n",
    "        return \"A\"\n",
    "    elif (num_grade < 88 and num_grade >= 80):\n",
    "        return \"B\"\n",
    "    elif (num_grade < 80 and num_grade >= 67):\n",
    "        return \"C\"\n",
    "    elif (num_grade < 67 and num_grade >= 60):\n",
    "        return \"D\"\n",
    "    else:\n",
    "        return \"F\"\n",
    "        \n",
    "assert get_letter_grade(88) == \"A\"\n",
    "assert get_letter_grade(87) == \"B\"\n",
    "assert get_letter_grade(80) == \"B\"\n",
    "assert get_letter_grade(79) == \"C\"\n",
    "assert get_letter_grade(67) == \"C\"\n",
    "assert get_letter_grade(66) == \"D\"\n",
    "assert get_letter_grade(60) == \"D\"\n",
    "assert get_letter_grade(59) == \"F\""
   ]
  },
  {
   "cell_type": "markdown",
   "metadata": {},
   "source": [
    "### Define a function named remove_vowels that accepts a string and returns a string with all the vowels removed."
   ]
  },
  {
   "cell_type": "code",
   "execution_count": 104,
   "metadata": {},
   "outputs": [],
   "source": [
    "def remove_vowels(word):\n",
    "    vowels = [\"a\", \"e\", \"i\", \"o\", \"u\"]\n",
    "    trimmed_word = []\n",
    "    \n",
    "    for letter in word:\n",
    "        if letter not in vowels:\n",
    "            trimmed_word.append(letter)\n",
    "    \n",
    "    return \"\".join(trimmed_word)\n",
    "\n",
    "# Alternative solution\n",
    "# def remove_vowels(word):\n",
    "#     return \"\".join([c for c in word if not is_vowel(c)])\n",
    "\n",
    "assert remove_vowels(\"apple\") == \"ppl\"\n",
    "assert remove_vowels(\"racecar\") == \"rccr\"\n",
    "assert remove_vowels(\"gym\") == \"gym\""
   ]
  },
  {
   "cell_type": "markdown",
   "metadata": {},
   "source": [
    "### Define a function named normalize_name. It should accept a string and return a valid python identifier, that is:\n",
    "1. anything that is not a valid python identifier should be removed\n",
    "2. leading and trailing whitespace should be removed\n",
    "3. everything should be lowercase\n",
    "4. spaces should be replaced with underscores\n",
    "5. for example:\n",
    "    * Name will become name\n",
    "    * First Name will become first_name\n",
    "    * % Completed will become completed"
   ]
  },
  {
   "cell_type": "code",
   "execution_count": 108,
   "metadata": {},
   "outputs": [],
   "source": [
    "def normalize_name(name):\n",
    "    special_chars_removed = []\n",
    "    \n",
    "    for char in name:\n",
    "        if not char.isidentifier():\n",
    "            special_chars_removed.append(\" \")\n",
    "        else:\n",
    "            special_chars_removed.append(char)\n",
    "    \n",
    "    name = \"\".join(special_chars_removed)\n",
    "    \n",
    "    formatted_name = name.lower().strip()\n",
    "    formatted_name = formatted_name.replace(\" \", \"_\")\n",
    "    \n",
    "    return formatted_name\n",
    "\n",
    "assert normalize_name(\"Name\") == \"name\"\n",
    "assert normalize_name(\"First Name\") == \"first_name\"\n",
    "assert normalize_name(\"% Completed\") == \"completed\"\n",
    "assert normalize_name(\"l337 h@x0r\") == \"l____h_x_r\""
   ]
  },
  {
   "cell_type": "markdown",
   "metadata": {},
   "source": [
    "### Write a function named cumulative_sum that accepts a list of numbers and returns a list that is the cumulative sum of the numbers in the list."
   ]
  },
  {
   "cell_type": "code",
   "execution_count": 116,
   "metadata": {},
   "outputs": [],
   "source": [
    "def cumulative_sum(numbers):\n",
    "    total = 0\n",
    "    sums = []\n",
    "    \n",
    "    for num in numbers:\n",
    "        total += num\n",
    "        sums.append(total)\n",
    "    \n",
    "    return sums\n",
    "\n",
    "assert cumulative_sum([1, 1, 1]) == [1, 2, 3]\n",
    "assert cumulative_sum([1, 2, 3, 4]) == [1, 3, 6, 10]\n",
    "assert cumulative_sum([2, 4, 6, 8]) == [2, 6, 12, 20]\n",
    "assert cumulative_sum([1, 2, 3, 5, 8, 13, 21]) == [1, 3, 6, 11, 19, 32, 53]\n",
    "assert cumulative_sum([1]) == [1]\n",
    "assert cumulative_sum([]) == []"
   ]
  },
  {
   "cell_type": "markdown",
   "metadata": {},
   "source": [
    "### Bonus 1. Create a function named twelveto24. It should accept a string in the format 10:45am or 4:30pm and return a string that is the representation of the time in a 24-hour format. Bonus write a function that does the opposite."
   ]
  },
  {
   "cell_type": "code",
   "execution_count": 107,
   "metadata": {},
   "outputs": [],
   "source": [
    "def twelveto24(twelve_hour_time):\n",
    "    colons_removed = []\n",
    "    \n",
    "    for char in twelve_hour_time:\n",
    "        if char == \":\":\n",
    "            colons_removed.append(\"\")\n",
    "        else:\n",
    "            colons_removed.append(char)\n",
    "    \n",
    "    twelve_hour_time = \"\".join(colons_removed)\n",
    "    twenty_four_hour_time = 0\n",
    "    \n",
    "    if (twelve_hour_time.startswith(\"12\")):\n",
    "        if (twelve_hour_time.find(\"am\") > -1):\n",
    "            twelve_hour_time = twelve_hour_time.replace(\"am\", \"\")\n",
    "            twenty_four_hour_time = int(twelve_hour_time) - 1200\n",
    "        else:\n",
    "            twelve_hour_time = twelve_hour_time.replace(\"pm\", \"\")\n",
    "            twenty_four_hour_time = int(twelve_hour_time)\n",
    "    elif (twelve_hour_time.find(\"am\") > -1):\n",
    "        twelve_hour_time = twelve_hour_time.replace(\"am\", \"\")\n",
    "        twenty_four_hour_time = int(twelve_hour_time)\n",
    "    else:\n",
    "        twelve_hour_time = twelve_hour_time.replace(\"pm\", \"\")\n",
    "        twenty_four_hour_time = int(twelve_hour_time) + 1200\n",
    "    \n",
    "    if (twenty_four_hour_time < 1):\n",
    "        twenty_four_hour_time = \"0000\"\n",
    "    elif (twenty_four_hour_time < 10):\n",
    "        twenty_four_hour_time = \"000\" + str(twenty_four_hour_time)\n",
    "    elif (twenty_four_hour_time < 60):\n",
    "        twenty_four_hour_time = \"00\" + str(twenty_four_hour_time)\n",
    "    elif (twenty_four_hour_time < 1000):\n",
    "        twenty_four_hour_time = \"0\" + str(twenty_four_hour_time)\n",
    "\n",
    "    return str(twenty_four_hour_time)\n",
    "\n",
    "assert twelveto24(\"10:45am\") == \"1045\"\n",
    "assert twelveto24(\"4:30pm\") == \"1630\"\n",
    "assert twelveto24(\"12:00am\") == \"0000\"\n",
    "assert twelveto24(\"12:00pm\") == \"1200\"\n",
    "assert twelveto24(\"4:44am\") == \"0444\""
   ]
  },
  {
   "cell_type": "code",
   "execution_count": null,
   "metadata": {},
   "outputs": [],
   "source": []
  }
 ],
 "metadata": {
  "kernelspec": {
   "display_name": "Python 3",
   "language": "python",
   "name": "python3"
  },
  "language_info": {
   "codemirror_mode": {
    "name": "ipython",
    "version": 3
   },
   "file_extension": ".py",
   "mimetype": "text/x-python",
   "name": "python",
   "nbconvert_exporter": "python",
   "pygments_lexer": "ipython3",
   "version": "3.8.5"
  }
 },
 "nbformat": 4,
 "nbformat_minor": 4
}
